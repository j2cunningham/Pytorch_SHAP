{
 "cells": [
  {
   "cell_type": "code",
   "execution_count": 56,
   "id": "7ba9a4dd",
   "metadata": {},
   "outputs": [],
   "source": [
    "import pandas as pd\n",
    "from sklearn import preprocessing\n",
    "from sklearn.pipeline import Pipeline\n",
    "from sklearn.model_selection import train_test_split\n",
    "import numpy as np\n",
    "\n",
    "from sklearn.preprocessing import OneHotEncoder, StandardScaler\n",
    "import category_encoders as ce \n",
    "\n",
    "from sklearn.impute import SimpleImputer\n",
    "\n",
    "\n",
    "import warnings\n",
    "\n",
    "warnings.filterwarnings('ignore')"
   ]
  },
  {
   "cell_type": "code",
   "execution_count": 57,
   "id": "ab2cd1e2",
   "metadata": {},
   "outputs": [],
   "source": [
    "df = pd.read_csv(\"income.csv\",index_col=None)"
   ]
  },
  {
   "cell_type": "markdown",
   "id": "0ca0fd3c",
   "metadata": {},
   "source": [
    "Transform the target to binary"
   ]
  },
  {
   "cell_type": "code",
   "execution_count": 58,
   "id": "02df02ad",
   "metadata": {},
   "outputs": [
    {
     "data": {
      "text/plain": [
       " <=50K     24720\n",
       " <=50K.    12435\n",
       " >50K       7841\n",
       " >50K.      3846\n",
       "Name: target, dtype: int64"
      ]
     },
     "execution_count": 58,
     "metadata": {},
     "output_type": "execute_result"
    }
   ],
   "source": [
    "df['target'].value_counts()"
   ]
  },
  {
   "cell_type": "code",
   "execution_count": 59,
   "id": "c09e9621",
   "metadata": {},
   "outputs": [],
   "source": [
    "df['target'] = df['target'].str.replace('.','')"
   ]
  },
  {
   "cell_type": "code",
   "execution_count": 60,
   "id": "aa659769",
   "metadata": {},
   "outputs": [],
   "source": [
    "le = preprocessing.LabelEncoder()"
   ]
  },
  {
   "cell_type": "code",
   "execution_count": 61,
   "id": "42e2e009",
   "metadata": {},
   "outputs": [],
   "source": [
    "df['target']=le.fit_transform(df['target'])"
   ]
  },
  {
   "cell_type": "markdown",
   "id": "d89efe9c",
   "metadata": {},
   "source": [
    "Split the Data"
   ]
  },
  {
   "cell_type": "code",
   "execution_count": 62,
   "id": "ba7a8081",
   "metadata": {},
   "outputs": [
    {
     "data": {
      "text/plain": [
       "(2799, 15)"
      ]
     },
     "execution_count": 62,
     "metadata": {},
     "output_type": "execute_result"
    }
   ],
   "source": [
    "df[df['workclass'].str.contains(\"?\",regex=False)].shape"
   ]
  },
  {
   "cell_type": "code",
   "execution_count": 63,
   "id": "5c1ce2dd",
   "metadata": {},
   "outputs": [],
   "source": [
    "X_train, X_test, y_train, y_test = train_test_split(df.drop(columns=['target']), \n",
    "                                                    df['target'], \n",
    "                                                    test_size=.2, \n",
    "                                                    random_state=42)"
   ]
  },
  {
   "cell_type": "markdown",
   "id": "d56fe87e",
   "metadata": {},
   "source": [
    "Establish lists for different encoding"
   ]
  },
  {
   "cell_type": "code",
   "execution_count": 64,
   "id": "3a320ac6",
   "metadata": {},
   "outputs": [],
   "source": [
    "num_cols = ['age','fnlwgt','education-num','capital-gain','capital-loss','hours-per-week']\n",
    "ohe_cols = ['workclass','marital-status','relationship','race','sex']\n",
    "target_transform_cols = ['education','occupation','native-country']"
   ]
  },
  {
   "cell_type": "markdown",
   "id": "cc89488c",
   "metadata": {},
   "source": [
    "Impute missing values"
   ]
  },
  {
   "cell_type": "code",
   "execution_count": 65,
   "id": "111869ec",
   "metadata": {},
   "outputs": [],
   "source": [
    "imp_mean = SimpleImputer(missing_values=np.nan, strategy='mean')\n",
    "imp_most = SimpleImputer(missing_values=\" ?\", strategy='most_frequent')\n"
   ]
  },
  {
   "cell_type": "code",
   "execution_count": 66,
   "id": "f6d7f9fa",
   "metadata": {},
   "outputs": [],
   "source": [
    "X_train[num_cols] = imp_mean.fit_transform(X_train[num_cols])\n",
    "X_test[num_cols] = imp_mean.transform(X_test[num_cols])"
   ]
  },
  {
   "cell_type": "code",
   "execution_count": 67,
   "id": "6d284d23",
   "metadata": {},
   "outputs": [],
   "source": [
    "combined = ohe_cols + target_transform_cols"
   ]
  },
  {
   "cell_type": "code",
   "execution_count": 68,
   "id": "91656724",
   "metadata": {},
   "outputs": [],
   "source": [
    "X_train[combined] = imp_most.fit_transform(X_train[combined])\n",
    "X_test[combined] = imp_most.transform(X_test[combined])"
   ]
  },
  {
   "cell_type": "markdown",
   "id": "1d1091b7",
   "metadata": {},
   "source": [
    "Encode variables"
   ]
  },
  {
   "cell_type": "markdown",
   "id": "3a48b0dc",
   "metadata": {},
   "source": [
    "Target Encode"
   ]
  },
  {
   "cell_type": "code",
   "execution_count": 69,
   "id": "d89a0111",
   "metadata": {
    "scrolled": true
   },
   "outputs": [],
   "source": [
    "tenc=ce.TargetEncoder() \n",
    "df_tenc=tenc.fit_transform(X_train[target_transform_cols],y_train,smoothing=.1)\n",
    "X_train = df_tenc.join(X_train.drop(target_transform_cols,axis = 1))\n",
    "df_test = tenc.transform(X_test[target_transform_cols])\n",
    "X_test = df_test.join(X_test.drop(target_transform_cols,axis = 1))                      "
   ]
  },
  {
   "cell_type": "markdown",
   "id": "93dada3b",
   "metadata": {},
   "source": [
    "One hot encode"
   ]
  },
  {
   "cell_type": "code",
   "execution_count": 70,
   "id": "b8568a51",
   "metadata": {},
   "outputs": [],
   "source": [
    "encoder = OneHotEncoder(handle_unknown='ignore', sparse=False)\n",
    "X_train_encoded = pd.DataFrame(encoder.fit_transform(X_train[ohe_cols]),columns=encoder.get_feature_names_out(),index=X_train.index)\n",
    "X_train.drop(ohe_cols,axis = 1,inplace=True)\n",
    "X_train = X_train_encoded.join(X_train)\n",
    "\n",
    "X_test_encoded = pd.DataFrame(encoder.transform(X_test[ohe_cols]),columns=encoder.get_feature_names_out(),index=X_test.index)\n",
    "X_test.drop(ohe_cols,axis = 1,inplace=True)\n",
    "X_test = X_test_encoded.join(X_test)"
   ]
  },
  {
   "cell_type": "markdown",
   "id": "185ce774",
   "metadata": {},
   "source": [
    "Scale and standardize"
   ]
  },
  {
   "cell_type": "code",
   "execution_count": 71,
   "id": "b465ced3",
   "metadata": {},
   "outputs": [],
   "source": [
    "stanscale = StandardScaler()\n",
    "X_stanscale =  pd.DataFrame(stanscale.fit_transform(X_train[num_cols]),columns=num_cols,index=X_train.index)\n",
    "X_train = X_stanscale.join(X_train.drop(num_cols,axis=1))\n",
    "\n",
    "X_test_stanscale =  pd.DataFrame(stanscale.fit_transform(X_test[num_cols]),columns=num_cols,index=X_test.index)\n",
    "X_test = X_test_stanscale.join(X_test.drop(num_cols,axis=1))"
   ]
  },
  {
   "cell_type": "code",
   "execution_count": 74,
   "id": "dc64064e",
   "metadata": {},
   "outputs": [],
   "source": [
    "X_train.to_csv('train_income.csv',index=False)"
   ]
  },
  {
   "cell_type": "code",
   "execution_count": 75,
   "id": "982d54fc",
   "metadata": {},
   "outputs": [],
   "source": [
    "X_test.to_csv('test_income.csv',index=False)"
   ]
  }
 ],
 "metadata": {
  "kernelspec": {
   "display_name": "Python 3 (ipykernel)",
   "language": "python",
   "name": "python3"
  },
  "language_info": {
   "codemirror_mode": {
    "name": "ipython",
    "version": 3
   },
   "file_extension": ".py",
   "mimetype": "text/x-python",
   "name": "python",
   "nbconvert_exporter": "python",
   "pygments_lexer": "ipython3",
   "version": "3.9.12"
  }
 },
 "nbformat": 4,
 "nbformat_minor": 5
}
