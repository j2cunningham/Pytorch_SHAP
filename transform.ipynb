{
 "cells": [
  {
   "cell_type": "code",
   "execution_count": 1,
   "id": "8e1aebef",
   "metadata": {},
   "outputs": [],
   "source": [
    "import pandas as pd\n",
    "from sklearn import preprocessing\n",
    "from sklearn.pipeline import Pipeline\n",
    "from sklearn.model_selection import train_test_split\n",
    "import numpy as np\n",
    "\n",
    "from sklearn.preprocessing import OneHotEncoder, StandardScaler\n",
    "import category_encoders as ce \n",
    "\n",
    "from sklearn.impute import SimpleImputer\n",
    "\n",
    "\n",
    "import warnings\n",
    "\n",
    "warnings.filterwarnings('ignore')"
   ]
  },
  {
   "cell_type": "code",
   "execution_count": 2,
   "id": "d763a11b",
   "metadata": {},
   "outputs": [],
   "source": [
    "df = pd.read_csv(\"income.csv\",index_col=None)"
   ]
  },
  {
   "cell_type": "markdown",
   "id": "e4a56699",
   "metadata": {},
   "source": [
    "Transform the target to binary"
   ]
  },
  {
   "cell_type": "code",
   "execution_count": 3,
   "id": "64b464b0",
   "metadata": {},
   "outputs": [
    {
     "data": {
      "text/plain": [
       " <=50K     24720\n",
       " <=50K.    12435\n",
       " >50K       7841\n",
       " >50K.      3846\n",
       "Name: target, dtype: int64"
      ]
     },
     "execution_count": 3,
     "metadata": {},
     "output_type": "execute_result"
    }
   ],
   "source": [
    "df['target'].value_counts()"
   ]
  },
  {
   "cell_type": "code",
   "execution_count": 4,
   "id": "100f3eed",
   "metadata": {},
   "outputs": [],
   "source": [
    "df['target'] = df['target'].str.replace('.','')"
   ]
  },
  {
   "cell_type": "code",
   "execution_count": 5,
   "id": "ec0df3ca",
   "metadata": {},
   "outputs": [],
   "source": [
    "le = preprocessing.LabelEncoder()"
   ]
  },
  {
   "cell_type": "code",
   "execution_count": 6,
   "id": "4a219d08",
   "metadata": {},
   "outputs": [],
   "source": [
    "df['target']=le.fit_transform(df['target'])"
   ]
  },
  {
   "cell_type": "markdown",
   "id": "89bf84d2",
   "metadata": {},
   "source": [
    "Split the Data"
   ]
  },
  {
   "cell_type": "code",
   "execution_count": 7,
   "id": "30477360",
   "metadata": {},
   "outputs": [
    {
     "data": {
      "text/plain": [
       "(2799, 15)"
      ]
     },
     "execution_count": 7,
     "metadata": {},
     "output_type": "execute_result"
    }
   ],
   "source": [
    "df[df['workclass'].str.contains(\"?\",regex=False)].shape"
   ]
  },
  {
   "cell_type": "code",
   "execution_count": 8,
   "id": "5980c86a",
   "metadata": {},
   "outputs": [],
   "source": [
    "X_train, X_test, y_train, y_test = train_test_split(df.drop(columns=['target']), \n",
    "                                                    df['target'], \n",
    "                                                    test_size=.2, \n",
    "                                                    random_state=42)"
   ]
  },
  {
   "cell_type": "markdown",
   "id": "3dba8b4d",
   "metadata": {},
   "source": [
    "Establish lists for different encoding"
   ]
  },
  {
   "cell_type": "code",
   "execution_count": 9,
   "id": "428df209",
   "metadata": {},
   "outputs": [],
   "source": [
    "num_cols = ['age','fnlwgt','education-num','capital-gain','capital-loss','hours-per-week']\n",
    "ohe_cols = ['workclass','marital-status','relationship','race','sex']\n",
    "target_transform_cols = ['education','occupation','native-country']"
   ]
  },
  {
   "cell_type": "markdown",
   "id": "8d6cffb7",
   "metadata": {},
   "source": [
    "Impute missing values"
   ]
  },
  {
   "cell_type": "code",
   "execution_count": 10,
   "id": "e0343c0d",
   "metadata": {},
   "outputs": [],
   "source": [
    "imp_mean = SimpleImputer(missing_values=np.nan, strategy='mean')\n",
    "imp_most = SimpleImputer(missing_values=\" ?\", strategy='most_frequent')\n"
   ]
  },
  {
   "cell_type": "code",
   "execution_count": 11,
   "id": "9b738cee",
   "metadata": {},
   "outputs": [],
   "source": [
    "X_train[num_cols] = imp_mean.fit_transform(X_train[num_cols])"
   ]
  },
  {
   "cell_type": "code",
   "execution_count": 13,
   "id": "61f8b35c",
   "metadata": {},
   "outputs": [],
   "source": [
    "combined = ohe_cols + target_transform_cols"
   ]
  },
  {
   "cell_type": "code",
   "execution_count": 14,
   "id": "e65156c9",
   "metadata": {},
   "outputs": [],
   "source": [
    "X_train[combined] = imp_most.fit_transform(X_train[combined])"
   ]
  },
  {
   "cell_type": "markdown",
   "id": "0499f743",
   "metadata": {},
   "source": [
    "Encode variables"
   ]
  },
  {
   "cell_type": "code",
   "execution_count": 16,
   "id": "8feeb7d0",
   "metadata": {
    "scrolled": true
   },
   "outputs": [
    {
     "data": {
      "text/plain": [
       "(39073, 14)"
      ]
     },
     "execution_count": 16,
     "metadata": {},
     "output_type": "execute_result"
    }
   ],
   "source": [
    "tenc=ce.TargetEncoder() \n",
    "df_tenc=tenc.fit_transform(X_train[target_transform_cols],y_train,smoothing=.1)\n",
    "\n",
    "X_train = df_tenc.join(X_train.drop(target_transform_cols,axis = 1))"
   ]
  },
  {
   "cell_type": "code",
   "execution_count": 17,
   "id": "6de4834a",
   "metadata": {},
   "outputs": [],
   "source": [
    "encoder = OneHotEncoder(handle_unknown='ignore', sparse=False)\n",
    "X_train_encoded = pd.DataFrame(encoder.fit_transform(X_train[ohe_cols]),columns=encoder.get_feature_names_out(),index=X_train.index)\n",
    "X_train.drop(ohe_cols,axis = 1,inplace=True)\n",
    "X_train = X_train_encoded.join(X_train)"
   ]
  },
  {
   "cell_type": "code",
   "execution_count": 20,
   "id": "d3b5d92b",
   "metadata": {},
   "outputs": [],
   "source": [
    "stanscale = StandardScaler()\n",
    "X_stanscale =  pd.DataFrame(stanscale.fit_transform(X_train[num_cols]),columns=num_cols,index=X_train.index)"
   ]
  },
  {
   "cell_type": "code",
   "execution_count": 22,
   "id": "4f68d697",
   "metadata": {},
   "outputs": [],
   "source": [
    "X_train = X_stanscale.join(X_train.drop(num_cols,axis=1))"
   ]
  },
  {
   "cell_type": "code",
   "execution_count": null,
   "id": "b739c501",
   "metadata": {},
   "outputs": [],
   "source": []
  }
 ],
 "metadata": {
  "kernelspec": {
   "display_name": "Python 3 (ipykernel)",
   "language": "python",
   "name": "python3"
  },
  "language_info": {
   "codemirror_mode": {
    "name": "ipython",
    "version": 3
   },
   "file_extension": ".py",
   "mimetype": "text/x-python",
   "name": "python",
   "nbconvert_exporter": "python",
   "pygments_lexer": "ipython3",
   "version": "3.9.12"
  }
 },
 "nbformat": 4,
 "nbformat_minor": 5
}
